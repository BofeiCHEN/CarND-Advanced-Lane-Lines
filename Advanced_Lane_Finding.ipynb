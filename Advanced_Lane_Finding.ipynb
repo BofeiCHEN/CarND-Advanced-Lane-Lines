{
 "metadata": {
  "language_info": {
   "codemirror_mode": {
    "name": "ipython",
    "version": 3
   },
   "file_extension": ".py",
   "mimetype": "text/x-python",
   "name": "python",
   "nbconvert_exporter": "python",
   "pygments_lexer": "ipython3",
   "version": "3.7.3-final"
  },
  "orig_nbformat": 2,
  "kernelspec": {
   "name": "python3",
   "display_name": "Python 3",
   "language": "python"
  }
 },
 "nbformat": 4,
 "nbformat_minor": 2,
 "cells": [
  {
   "source": [
    "# Advanced Lane Finding\n",
    "The goals / steps of this project are the following:\n",
    "\n",
    "1. Compute the **camera calibration** matrix and distortion coefficients given a set of chessboard images.\n",
    "1. Apply a **distortion** correction to raw images.\n",
    "1. Use color transforms, gradients, etc., to **create a thresholded binary image**.\n",
    "1. Apply a perspective transform to rectify binary image (**\"birds-eye view\"**).\n",
    "1. Detect lane pixels and fit to **find the lane boundary**.\n",
    "1. Determine the **curvature** of the lane and vehicle position with respect to center.\n",
    "1. **Warp** the detected lane boundaries back onto the original image.\n",
    "1. **Output** visual display of the lane boundaries and numerical estimation of lane curvature and vehicle position.\n",
    "\n",
    "---\n",
    "## 1. Camera calibration\n",
    "First, I'll compute the camera calibration matrix and distortion coefficients using chessboard images.\n"
   ],
   "cell_type": "markdown",
   "metadata": {}
  },
  {
   "cell_type": "code",
   "execution_count": 1,
   "metadata": {},
   "outputs": [],
   "source": [
    "import numpy as np\n",
    "import cv2\n",
    "import glob\n",
    "import matplotlib.pyplot as plt\n",
    "import matplotlib.image as mpimg\n",
    "%matplotlib inline\n",
    "\n",
    "# Read the list of calibration images\n",
    "image_paths = glob.glob('camera_cal/calibration*.jpg') \n",
    "\n",
    "# Arrays to store object points and image points from all the images.\n",
    "objpoints = [] # 3d points in real world space\n",
    "imgpoints = [] # 2d points in calibration image \n",
    "\n",
    "# object points\n",
    "chessboard_x = 9\n",
    "chessboard_y = 6\n",
    "objp = np.zeros((chessboard_y*chessboard_x,3), np.float32)\n",
    "objp[:,:2] = np.mgrid[0:chessboard_x,0:chessboard_y].T.reshape(-1,2)\n",
    "\n",
    "# Go through every image\n",
    "for image_path in image_paths:\n",
    "    img =  cv2.imread(image_path)\n",
    "    gray = cv2.cvtColor(img,cv2.COLOR_BGR2GRAY)\n",
    "\n",
    "\n",
    "    # Find the chessboard corners\n",
    "    ret, corners = cv2.findChessboardCorners(gray, (chessboard_x,chessboard_y),None)\n",
    "\n",
    "    # Save corners to arrays\n",
    "    if True == ret:\n",
    "        objpoints.append(objp)\n",
    "        imgpoints.append(corners)\n",
    "\n",
    "        # Draw corners\n",
    "        img = cv2.drawChessboardCorners(img, (chessboard_x, chessboard_y), corners, ret)\n",
    "        saved_image = image_path.replace('camera_cal', 'output_images')\n",
    "        #plt.imsave(saved_image, img)\n",
    "        #plt.imshow(img)\n",
    "        #plt.savefig(saved_image)\n",
    "\n",
    "# Calibrating camera\n",
    "ret, mtx, dist, rvecs, tvecs = cv2.calibrateCamera(objpoints, imgpoints, gray.shape[::-1], None, None)\n",
    "\n"
   ]
  },
  {
   "source": [
    "## 2. Distortion correction "
   ],
   "cell_type": "markdown",
   "metadata": {}
  },
  {
   "cell_type": "code",
   "execution_count": 7,
   "metadata": {},
   "outputs": [
    {
     "output_type": "stream",
     "name": "stdout",
     "text": [
      "['test_images/test6.jpg', 'test_images/test5.jpg', 'test_images/test4.jpg', 'test_images/test1.jpg', 'test_images/test3.jpg', 'test_images/test2.jpg', 'test_images/straight_lines2.jpg', 'test_images/straight_lines1.jpg']\n",
      "test_images/test6.jpg\n",
      "output_images/undist_test6.jpg\n",
      "test_images/test5.jpg\n",
      "output_images/undist_test5.jpg\n",
      "test_images/test4.jpg\n",
      "output_images/undist_test4.jpg\n",
      "test_images/test1.jpg\n",
      "output_images/undist_test1.jpg\n",
      "test_images/test3.jpg\n",
      "output_images/undist_test3.jpg\n",
      "test_images/test2.jpg\n",
      "output_images/undist_test2.jpg\n",
      "test_images/straight_lines2.jpg\n",
      "output_images/undist_straight_lines2.jpg\n",
      "test_images/straight_lines1.jpg\n",
      "output_images/undist_straight_lines1.jpg\n"
     ]
    }
   ],
   "source": [
    "# Go through every test image for undistortion\n",
    "test_image_paths = glob.glob('test_images/*.jpg') \n",
    "for test_image_path in test_image_paths:\n",
    "    test_img = cv2.imread(test_image_path)\n",
    "    undist = cv2.undistort(test_img, mtx, dist, None, mtx)\n",
    "    saved_undist_path = test_image_path.replace('test_images', 'output_images').replace('/', '/undist_')\n",
    "    #cv2.imwrite(saved_undist_path,undist)"
   ]
  },
  {
   "source": [
    "## 3. Create thresholded binary image\n",
    "Use color transforms, gradients, etc., to create a thresholded binary image."
   ],
   "cell_type": "markdown",
   "metadata": {}
  },
  {
   "cell_type": "code",
   "execution_count": null,
   "metadata": {},
   "outputs": [],
   "source": []
  },
  {
   "source": [
    "## 4. Birds-eye view"
   ],
   "cell_type": "markdown",
   "metadata": {}
  },
  {
   "source": [
    "## 5. Find the lane boundary"
   ],
   "cell_type": "markdown",
   "metadata": {}
  },
  {
   "source": [
    "## 6. Determine the curvature\n"
   ],
   "cell_type": "markdown",
   "metadata": {}
  },
  {
   "source": [
    "## 7. Warp\n"
   ],
   "cell_type": "markdown",
   "metadata": {}
  },
  {
   "source": [
    "## 8. Output\n"
   ],
   "cell_type": "markdown",
   "metadata": {}
  }
 ]
}